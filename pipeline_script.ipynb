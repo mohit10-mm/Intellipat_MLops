{
  "cells": [
    {
      "cell_type": "code",
      "execution_count": 11,
      "metadata": {
        "gather": {
          "logged": 1692084035794
        }
      },
      "outputs": [
        {
          "name": "stdout",
          "output_type": "stream",
          "text": [
            "Data of pipeline ML run is 2023-08-15\n"
          ]
        }
      ],
      "source": [
        "# pipeline script.ipynb\n",
        "from datetime import datetime, date, timedelta\n",
        "import numpy as  np\n",
        "import os\n",
        "import pandas as pd\n",
        "\n",
        "from azureml.core import Workspace, Dataset, Datastore\n",
        "print (\"Data of pipeline ML run is\", date.today())\n"
      ]
    },
    {
      "cell_type": "code",
      "execution_count": 12,
      "metadata": {
        "gather": {
          "logged": 1692084036358
        },
        "jupyter": {
          "outputs_hidden": false,
          "source_hidden": false
        },
        "nteract": {
          "transient": {
            "deleting": false
          }
        }
      },
      "outputs": [
        {
          "name": "stdout",
          "output_type": "stream",
          "text": [
            "setting up the Aml workspace\n",
            "azuremlmohit\n",
            "machinelearning\n",
            "westus2\n",
            "ce687e80-2716-4878-ba12-099e3e2e73b7\n"
          ]
        }
      ],
      "source": [
        "from azureml.core import Run\n",
        "run = Run.get_context()\n",
        "\n",
        "print('setting up the Aml workspace')\n",
        "ws = Workspace(subscription_id = ' ', resource_group = ' ', workspace_name = ' ')\n",
        "print(ws.name, ws.resource_group, ws.location, ws.subscription_id, sep = '\\n')\n",
        "\n",
        "blob_datastore_name = 'demostore'  # Name of the datastore to workspace\n",
        "container_name = os.getenv(\"BLOB_CONTAINER\", \"\") # Name of Azure blob container\n",
        "\n",
        "account_name = os.getenv(\"BLOB_ACCOUNTNAME\", \"\") #Storage account name\n",
        "account_key = os.getenv(\"BLOB_ACCOUNT_KEY\", \" \")\n"
      ]
    },
    {
      "cell_type": "code",
      "execution_count": 13,
      "metadata": {
        "gather": {
          "logged": 1692084036960
        },
        "jupyter": {
          "outputs_hidden": false,
          "source_hidden": false
        },
        "nteract": {
          "transient": {
            "deleting": false
          }
        }
      },
      "outputs": [
        {
          "name": "stdout",
          "output_type": "stream",
          "text": [
            "Setting up the blob store for reading input files\n"
          ]
        }
      ],
      "source": [
        "print('Setting up the blob store for reading input files')\n",
        "\n",
        "from azureml.core import run\n",
        "run = Run.get_context()"
      ]
    },
    {
      "cell_type": "code",
      "execution_count": 14,
      "metadata": {
        "gather": {
          "logged": 1692084037521
        },
        "jupyter": {
          "outputs_hidden": false,
          "source_hidden": false
        },
        "nteract": {
          "transient": {
            "deleting": false
          }
        }
      },
      "outputs": [
        {
          "name": "stdout",
          "output_type": "stream",
          "text": [
            "Setting up the blob store for reading input files\n"
          ]
        }
      ],
      "source": [
        "datastore = Datastore.get(ws, \"demostore\")\n",
        "print('Setting up the blob store for reading input files')\n",
        "\n",
        "from azureml.core import run\n",
        "run = Run.get_context()"
      ]
    },
    {
      "cell_type": "code",
      "execution_count": 15,
      "metadata": {
        "gather": {
          "logged": 1692084038017
        },
        "jupyter": {
          "outputs_hidden": false,
          "source_hidden": false
        },
        "nteract": {
          "transient": {
            "deleting": false
          }
        }
      },
      "outputs": [],
      "source": [
        "training_data = Dataset.Tabular.from_delimited_files(path = [(datastore, 'train.csv')])"
      ]
    },
    {
      "cell_type": "code",
      "execution_count": 17,
      "metadata": {
        "gather": {
          "logged": 1692084038551
        },
        "jupyter": {
          "outputs_hidden": false,
          "source_hidden": false
        },
        "nteract": {
          "transient": {
            "deleting": false
          }
        }
      },
      "outputs": [
        {
          "ename": "AttributeError",
          "evalue": "'TabularDataset' object has no attribute 'Shape'",
          "output_type": "error",
          "traceback": [
            "\u001b[0;31m---------------------------------------------------------------------------\u001b[0m",
            "\u001b[0;31mAttributeError\u001b[0m                            Traceback (most recent call last)",
            "Cell \u001b[0;32mIn[17], line 1\u001b[0m\n\u001b[0;32m----> 1\u001b[0m \u001b[39mprint\u001b[39m(\u001b[39m\"\u001b[39m\u001b[39mcount record from the file: \u001b[39m\u001b[39m\"\u001b[39m\u001b[39m+\u001b[39m \u001b[39mstr\u001b[39m(training_data\u001b[39m.\u001b[39;49mShape[\u001b[39m0\u001b[39m]))\n\u001b[1;32m      3\u001b[0m \u001b[39m# save and export this as python file named python_script\u001b[39;00m\n",
            "\u001b[0;31mAttributeError\u001b[0m: 'TabularDataset' object has no attribute 'Shape'"
          ]
        }
      ],
      "source": [
        "print(\"count record from the file: \"+ str(training_data.shape[0]))\n",
        "\n",
        "# save and export this as python file named python_script"
      ]
    }
  ],
  "metadata": {
    "kernel_info": {
      "name": "python310-sdkv2"
    },
    "kernelspec": {
      "display_name": "Python 3.10 - SDK v2",
      "language": "python",
      "name": "python310-sdkv2"
    },
    "language_info": {
      "codemirror_mode": {
        "name": "ipython",
        "version": 3
      },
      "file_extension": ".py",
      "mimetype": "text/x-python",
      "name": "python",
      "nbconvert_exporter": "python",
      "pygments_lexer": "ipython3",
      "version": "3.10.11"
    },
    "microsoft": {
      "host": {
        "AzureML": {
          "notebookHasBeenCompleted": true
        }
      },
      "ms_spell_check": {
        "ms_spell_check_language": "en"
      }
    },
    "nteract": {
      "version": "nteract-front-end@1.0.0"
    }
  },
  "nbformat": 4,
  "nbformat_minor": 2
}
