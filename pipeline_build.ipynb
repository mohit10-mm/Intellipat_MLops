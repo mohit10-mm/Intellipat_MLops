{
  "cells": [
    {
      "cell_type": "code",
      "execution_count": 1,
      "metadata": {
        "gather": {
          "logged": 1692083480153
        }
      },
      "outputs": [
        {
          "name": "stdout",
          "output_type": "stream",
          "text": [
            "Requirement already satisfied: azureml-pipeline-steps in /anaconda/envs/azureml_py310_sdkv2/lib/python3.10/site-packages (1.52.0)\n",
            "Requirement already satisfied: azureml-train-core~=1.52.0 in /anaconda/envs/azureml_py310_sdkv2/lib/python3.10/site-packages (from azureml-pipeline-steps) (1.52.0)\n",
            "Requirement already satisfied: azureml-train-automl-client~=1.52.0 in /anaconda/envs/azureml_py310_sdkv2/lib/python3.10/site-packages (from azureml-pipeline-steps) (1.52.0)\n",
            "Requirement already satisfied: azureml-pipeline-core~=1.52.0 in /anaconda/envs/azureml_py310_sdkv2/lib/python3.10/site-packages (from azureml-pipeline-steps) (1.52.0)\n",
            "Requirement already satisfied: azureml-core~=1.52.0 in /anaconda/envs/azureml_py310_sdkv2/lib/python3.10/site-packages (from azureml-pipeline-core~=1.52.0->azureml-pipeline-steps) (1.52.0)\n",
            "Requirement already satisfied: azureml-automl-core~=1.52.0 in /anaconda/envs/azureml_py310_sdkv2/lib/python3.10/site-packages (from azureml-train-automl-client~=1.52.0->azureml-pipeline-steps) (1.52.0.post1)\n",
            "Requirement already satisfied: azureml-dataset-runtime~=1.52.0 in /anaconda/envs/azureml_py310_sdkv2/lib/python3.10/site-packages (from azureml-train-automl-client~=1.52.0->azureml-pipeline-steps) (1.52.0)\n",
            "Requirement already satisfied: azureml-telemetry~=1.52.0 in /anaconda/envs/azureml_py310_sdkv2/lib/python3.10/site-packages (from azureml-train-automl-client~=1.52.0->azureml-pipeline-steps) (1.52.0)\n",
            "Requirement already satisfied: azureml-train-restclients-hyperdrive~=1.52.0 in /anaconda/envs/azureml_py310_sdkv2/lib/python3.10/site-packages (from azureml-train-core~=1.52.0->azureml-pipeline-steps) (1.52.0)\n",
            "Requirement already satisfied: pytz in /anaconda/envs/azureml_py310_sdkv2/lib/python3.10/site-packages (from azureml-core~=1.52.0->azureml-pipeline-core~=1.52.0->azureml-pipeline-steps) (2023.3)\n",
            "Requirement already satisfied: backports.tempfile in /anaconda/envs/azureml_py310_sdkv2/lib/python3.10/site-packages (from azureml-core~=1.52.0->azureml-pipeline-core~=1.52.0->azureml-pipeline-steps) (1.0)\n",
            "Requirement already satisfied: pathspec<1.0.0 in /anaconda/envs/azureml_py310_sdkv2/lib/python3.10/site-packages (from azureml-core~=1.52.0->azureml-pipeline-core~=1.52.0->azureml-pipeline-steps) (0.11.1)\n",
            "Requirement already satisfied: requests[socks]<3.0.0,>=2.19.1 in /anaconda/envs/azureml_py310_sdkv2/lib/python3.10/site-packages (from azureml-core~=1.52.0->azureml-pipeline-core~=1.52.0->azureml-pipeline-steps) (2.31.0)\n",
            "Requirement already satisfied: msal<2.0.0,>=1.15.0 in /anaconda/envs/azureml_py310_sdkv2/lib/python3.10/site-packages (from azureml-core~=1.52.0->azureml-pipeline-core~=1.52.0->azureml-pipeline-steps) (1.22.0)\n",
            "Requirement already satisfied: msal-extensions<=1.0.0,>=0.3.0 in /anaconda/envs/azureml_py310_sdkv2/lib/python3.10/site-packages (from azureml-core~=1.52.0->azureml-pipeline-core~=1.52.0->azureml-pipeline-steps) (1.0.0)\n",
            "Requirement already satisfied: knack~=0.10.0 in /anaconda/envs/azureml_py310_sdkv2/lib/python3.10/site-packages (from azureml-core~=1.52.0->azureml-pipeline-core~=1.52.0->azureml-pipeline-steps) (0.10.1)\n",
            "Requirement already satisfied: azure-core<2.0.0 in /anaconda/envs/azureml_py310_sdkv2/lib/python3.10/site-packages (from azureml-core~=1.52.0->azureml-pipeline-core~=1.52.0->azureml-pipeline-steps) (1.27.1)\n",
            "Requirement already satisfied: pkginfo in /anaconda/envs/azureml_py310_sdkv2/lib/python3.10/site-packages (from azureml-core~=1.52.0->azureml-pipeline-core~=1.52.0->azureml-pipeline-steps) (1.9.6)\n",
            "Requirement already satisfied: argcomplete<3 in /anaconda/envs/azureml_py310_sdkv2/lib/python3.10/site-packages (from azureml-core~=1.52.0->azureml-pipeline-core~=1.52.0->azureml-pipeline-steps) (2.1.2)\n",
            "Requirement already satisfied: humanfriendly<11.0,>=4.7 in /anaconda/envs/azureml_py310_sdkv2/lib/python3.10/site-packages (from azureml-core~=1.52.0->azureml-pipeline-core~=1.52.0->azureml-pipeline-steps) (10.0)\n",
            "Requirement already satisfied: paramiko<4.0.0,>=2.0.8 in /anaconda/envs/azureml_py310_sdkv2/lib/python3.10/site-packages (from azureml-core~=1.52.0->azureml-pipeline-core~=1.52.0->azureml-pipeline-steps) (3.2.0)\n",
            "Requirement already satisfied: azure-mgmt-resource<=22.0.0,>=15.0.0 in /anaconda/envs/azureml_py310_sdkv2/lib/python3.10/site-packages (from azureml-core~=1.52.0->azureml-pipeline-core~=1.52.0->azureml-pipeline-steps) (22.0.0)\n",
            "Requirement already satisfied: azure-mgmt-containerregistry<11,>=8.2.0 in /anaconda/envs/azureml_py310_sdkv2/lib/python3.10/site-packages (from azureml-core~=1.52.0->azureml-pipeline-core~=1.52.0->azureml-pipeline-steps) (10.1.0)\n",
            "Requirement already satisfied: azure-mgmt-storage<=21.0.0,>=16.0.0 in /anaconda/envs/azureml_py310_sdkv2/lib/python3.10/site-packages (from azureml-core~=1.52.0->azureml-pipeline-core~=1.52.0->azureml-pipeline-steps) (21.0.0)\n",
            "Requirement already satisfied: azure-mgmt-keyvault<11.0.0,>=0.40.0 in /anaconda/envs/azureml_py310_sdkv2/lib/python3.10/site-packages (from azureml-core~=1.52.0->azureml-pipeline-core~=1.52.0->azureml-pipeline-steps) (10.2.2)\n",
            "Requirement already satisfied: azure-mgmt-authorization<4,>=0.40.0 in /anaconda/envs/azureml_py310_sdkv2/lib/python3.10/site-packages (from azureml-core~=1.52.0->azureml-pipeline-core~=1.52.0->azureml-pipeline-steps) (3.0.0)\n",
            "Requirement already satisfied: azure-graphrbac<1.0.0,>=0.40.0 in /anaconda/envs/azureml_py310_sdkv2/lib/python3.10/site-packages (from azureml-core~=1.52.0->azureml-pipeline-core~=1.52.0->azureml-pipeline-steps) (0.61.1)\n",
            "Requirement already satisfied: azure-common<2.0.0,>=1.1.12 in /anaconda/envs/azureml_py310_sdkv2/lib/python3.10/site-packages (from azureml-core~=1.52.0->azureml-pipeline-core~=1.52.0->azureml-pipeline-steps) (1.1.28)\n",
            "Requirement already satisfied: msrest<=0.7.1,>=0.5.1 in /anaconda/envs/azureml_py310_sdkv2/lib/python3.10/site-packages (from azureml-core~=1.52.0->azureml-pipeline-core~=1.52.0->azureml-pipeline-steps) (0.7.1)\n",
            "Requirement already satisfied: msrestazure<=0.6.4,>=0.4.33 in /anaconda/envs/azureml_py310_sdkv2/lib/python3.10/site-packages (from azureml-core~=1.52.0->azureml-pipeline-core~=1.52.0->azureml-pipeline-steps) (0.6.4)\n",
            "Requirement already satisfied: urllib3<2.0.0,>=1.23 in /anaconda/envs/azureml_py310_sdkv2/lib/python3.10/site-packages (from azureml-core~=1.52.0->azureml-pipeline-core~=1.52.0->azureml-pipeline-steps) (1.26.16)\n",
            "Requirement already satisfied: packaging<=23.0,>=20.0 in /anaconda/envs/azureml_py310_sdkv2/lib/python3.10/site-packages (from azureml-core~=1.52.0->azureml-pipeline-core~=1.52.0->azureml-pipeline-steps) (23.0)\n",
            "Requirement already satisfied: cryptography!=1.9,!=2.0.*,!=2.1.*,!=2.2.* in /anaconda/envs/azureml_py310_sdkv2/lib/python3.10/site-packages (from azureml-core~=1.52.0->azureml-pipeline-core~=1.52.0->azureml-pipeline-steps) (41.0.1)\n",
            "Requirement already satisfied: python-dateutil<3.0.0,>=2.7.3 in /anaconda/envs/azureml_py310_sdkv2/lib/python3.10/site-packages (from azureml-core~=1.52.0->azureml-pipeline-core~=1.52.0->azureml-pipeline-steps) (2.8.2)\n",
            "Requirement already satisfied: ndg-httpsclient<=0.5.1 in /anaconda/envs/azureml_py310_sdkv2/lib/python3.10/site-packages (from azureml-core~=1.52.0->azureml-pipeline-core~=1.52.0->azureml-pipeline-steps) (0.5.1)\n",
            "Requirement already satisfied: SecretStorage<4.0.0 in /anaconda/envs/azureml_py310_sdkv2/lib/python3.10/site-packages (from azureml-core~=1.52.0->azureml-pipeline-core~=1.52.0->azureml-pipeline-steps) (3.3.3)\n",
            "Requirement already satisfied: jsonpickle<4.0.0 in /anaconda/envs/azureml_py310_sdkv2/lib/python3.10/site-packages (from azureml-core~=1.52.0->azureml-pipeline-core~=1.52.0->azureml-pipeline-steps) (3.0.1)\n",
            "Requirement already satisfied: contextlib2<22.0.0 in /anaconda/envs/azureml_py310_sdkv2/lib/python3.10/site-packages (from azureml-core~=1.52.0->azureml-pipeline-core~=1.52.0->azureml-pipeline-steps) (21.6.0)\n",
            "Requirement already satisfied: docker<7.0.0 in /anaconda/envs/azureml_py310_sdkv2/lib/python3.10/site-packages (from azureml-core~=1.52.0->azureml-pipeline-core~=1.52.0->azureml-pipeline-steps) (6.1.3)\n",
            "Requirement already satisfied: PyJWT<3.0.0 in /anaconda/envs/azureml_py310_sdkv2/lib/python3.10/site-packages (from azureml-core~=1.52.0->azureml-pipeline-core~=1.52.0->azureml-pipeline-steps) (2.7.0)\n",
            "Requirement already satisfied: adal<=1.2.7,>=1.2.0 in /anaconda/envs/azureml_py310_sdkv2/lib/python3.10/site-packages (from azureml-core~=1.52.0->azureml-pipeline-core~=1.52.0->azureml-pipeline-steps) (1.2.7)\n",
            "Requirement already satisfied: pyopenssl<24.0.0 in /anaconda/envs/azureml_py310_sdkv2/lib/python3.10/site-packages (from azureml-core~=1.52.0->azureml-pipeline-core~=1.52.0->azureml-pipeline-steps) (23.2.0)\n",
            "Requirement already satisfied: jmespath<2.0.0 in /anaconda/envs/azureml_py310_sdkv2/lib/python3.10/site-packages (from azureml-core~=1.52.0->azureml-pipeline-core~=1.52.0->azureml-pipeline-steps) (1.0.1)\n",
            "Requirement already satisfied: azureml-dataprep<4.12.0a,>=4.11.3a in /anaconda/envs/azureml_py310_sdkv2/lib/python3.10/site-packages (from azureml-dataset-runtime~=1.52.0->azureml-train-automl-client~=1.52.0->azureml-pipeline-steps) (4.11.3)\n",
            "Requirement already satisfied: pyarrow<=11.0.0,>=0.17.0 in /anaconda/envs/azureml_py310_sdkv2/lib/python3.10/site-packages (from azureml-dataset-runtime~=1.52.0->azureml-train-automl-client~=1.52.0->azureml-pipeline-steps) (11.0.0)\n",
            "Requirement already satisfied: numpy!=1.19.3,<1.24 in /anaconda/envs/azureml_py310_sdkv2/lib/python3.10/site-packages (from azureml-dataset-runtime~=1.52.0->azureml-train-automl-client~=1.52.0->azureml-pipeline-steps) (1.23.5)\n",
            "Requirement already satisfied: applicationinsights in /anaconda/envs/azureml_py310_sdkv2/lib/python3.10/site-packages (from azureml-telemetry~=1.52.0->azureml-train-automl-client~=1.52.0->azureml-pipeline-steps) (0.11.10)\n",
            "Requirement already satisfied: six>=1.11.0 in /anaconda/envs/azureml_py310_sdkv2/lib/python3.10/site-packages (from azure-core<2.0.0->azureml-core~=1.52.0->azureml-pipeline-core~=1.52.0->azureml-pipeline-steps) (1.16.0)\n",
            "Requirement already satisfied: typing-extensions>=4.3.0 in /anaconda/envs/azureml_py310_sdkv2/lib/python3.10/site-packages (from azure-core<2.0.0->azureml-core~=1.52.0->azureml-pipeline-core~=1.52.0->azureml-pipeline-steps) (4.6.3)\n",
            "Requirement already satisfied: azure-mgmt-core<2.0.0,>=1.3.2 in /anaconda/envs/azureml_py310_sdkv2/lib/python3.10/site-packages (from azure-mgmt-authorization<4,>=0.40.0->azureml-core~=1.52.0->azureml-pipeline-core~=1.52.0->azureml-pipeline-steps) (1.4.0)\n",
            "Requirement already satisfied: isodate<1.0.0,>=0.6.1 in /anaconda/envs/azureml_py310_sdkv2/lib/python3.10/site-packages (from azure-mgmt-keyvault<11.0.0,>=0.40.0->azureml-core~=1.52.0->azureml-pipeline-core~=1.52.0->azureml-pipeline-steps) (0.6.1)\n",
            "Requirement already satisfied: dotnetcore2<4.0.0,>=3.0.0 in /anaconda/envs/azureml_py310_sdkv2/lib/python3.10/site-packages (from azureml-dataprep<4.12.0a,>=4.11.3a->azureml-dataset-runtime~=1.52.0->azureml-train-automl-client~=1.52.0->azureml-pipeline-steps) (3.1.23)\n",
            "Requirement already satisfied: azureml-dataprep-native<39.0.0,>=38.0.0 in /anaconda/envs/azureml_py310_sdkv2/lib/python3.10/site-packages (from azureml-dataprep<4.12.0a,>=4.11.3a->azureml-dataset-runtime~=1.52.0->azureml-train-automl-client~=1.52.0->azureml-pipeline-steps) (38.0.0)\n",
            "Requirement already satisfied: azureml-dataprep-rslex~=2.18.3dev0 in /anaconda/envs/azureml_py310_sdkv2/lib/python3.10/site-packages (from azureml-dataprep<4.12.0a,>=4.11.3a->azureml-dataset-runtime~=1.52.0->azureml-train-automl-client~=1.52.0->azureml-pipeline-steps) (2.18.3)\n",
            "Requirement already satisfied: cloudpickle<3.0.0,>=1.1.0 in /anaconda/envs/azureml_py310_sdkv2/lib/python3.10/site-packages (from azureml-dataprep<4.12.0a,>=4.11.3a->azureml-dataset-runtime~=1.52.0->azureml-train-automl-client~=1.52.0->azureml-pipeline-steps) (2.2.1)\n",
            "Requirement already satisfied: azure-identity>=1.7.0 in /anaconda/envs/azureml_py310_sdkv2/lib/python3.10/site-packages (from azureml-dataprep<4.12.0a,>=4.11.3a->azureml-dataset-runtime~=1.52.0->azureml-train-automl-client~=1.52.0->azureml-pipeline-steps) (1.13.0)\n",
            "Requirement already satisfied: jsonschema in /anaconda/envs/azureml_py310_sdkv2/lib/python3.10/site-packages (from azureml-dataprep<4.12.0a,>=4.11.3a->azureml-dataset-runtime~=1.52.0->azureml-train-automl-client~=1.52.0->azureml-pipeline-steps) (4.17.3)\n",
            "Requirement already satisfied: pyyaml<7.0.0,>=5.1.0 in /anaconda/envs/azureml_py310_sdkv2/lib/python3.10/site-packages (from azureml-dataprep<4.12.0a,>=4.11.3a->azureml-dataset-runtime~=1.52.0->azureml-train-automl-client~=1.52.0->azureml-pipeline-steps) (6.0)\n",
            "Requirement already satisfied: cffi>=1.12 in /anaconda/envs/azureml_py310_sdkv2/lib/python3.10/site-packages (from cryptography!=1.9,!=2.0.*,!=2.1.*,!=2.2.*->azureml-core~=1.52.0->azureml-pipeline-core~=1.52.0->azureml-pipeline-steps) (1.15.1)\n",
            "Requirement already satisfied: websocket-client>=0.32.0 in /anaconda/envs/azureml_py310_sdkv2/lib/python3.10/site-packages (from docker<7.0.0->azureml-core~=1.52.0->azureml-pipeline-core~=1.52.0->azureml-pipeline-steps) (1.6.0)\n",
            "Requirement already satisfied: pygments in /anaconda/envs/azureml_py310_sdkv2/lib/python3.10/site-packages (from knack~=0.10.0->azureml-core~=1.52.0->azureml-pipeline-core~=1.52.0->azureml-pipeline-steps) (2.15.1)\n",
            "Requirement already satisfied: tabulate in /anaconda/envs/azureml_py310_sdkv2/lib/python3.10/site-packages (from knack~=0.10.0->azureml-core~=1.52.0->azureml-pipeline-core~=1.52.0->azureml-pipeline-steps) (0.9.0)\n",
            "Requirement already satisfied: portalocker<3,>=1.0 in /anaconda/envs/azureml_py310_sdkv2/lib/python3.10/site-packages (from msal-extensions<=1.0.0,>=0.3.0->azureml-core~=1.52.0->azureml-pipeline-core~=1.52.0->azureml-pipeline-steps) (2.7.0)\n",
            "Requirement already satisfied: certifi>=2017.4.17 in /anaconda/envs/azureml_py310_sdkv2/lib/python3.10/site-packages (from msrest<=0.7.1,>=0.5.1->azureml-core~=1.52.0->azureml-pipeline-core~=1.52.0->azureml-pipeline-steps) (2023.5.7)\n",
            "Requirement already satisfied: requests-oauthlib>=0.5.0 in /anaconda/envs/azureml_py310_sdkv2/lib/python3.10/site-packages (from msrest<=0.7.1,>=0.5.1->azureml-core~=1.52.0->azureml-pipeline-core~=1.52.0->azureml-pipeline-steps) (1.3.1)\n",
            "Requirement already satisfied: pyasn1>=0.1.1 in /anaconda/envs/azureml_py310_sdkv2/lib/python3.10/site-packages (from ndg-httpsclient<=0.5.1->azureml-core~=1.52.0->azureml-pipeline-core~=1.52.0->azureml-pipeline-steps) (0.5.0)\n",
            "Requirement already satisfied: bcrypt>=3.2 in /anaconda/envs/azureml_py310_sdkv2/lib/python3.10/site-packages (from paramiko<4.0.0,>=2.0.8->azureml-core~=1.52.0->azureml-pipeline-core~=1.52.0->azureml-pipeline-steps) (4.0.1)\n",
            "Requirement already satisfied: pynacl>=1.5 in /anaconda/envs/azureml_py310_sdkv2/lib/python3.10/site-packages (from paramiko<4.0.0,>=2.0.8->azureml-core~=1.52.0->azureml-pipeline-core~=1.52.0->azureml-pipeline-steps) (1.5.0)\n",
            "Requirement already satisfied: charset-normalizer<4,>=2 in /anaconda/envs/azureml_py310_sdkv2/lib/python3.10/site-packages (from requests[socks]<3.0.0,>=2.19.1->azureml-core~=1.52.0->azureml-pipeline-core~=1.52.0->azureml-pipeline-steps) (3.1.0)\n",
            "Requirement already satisfied: idna<4,>=2.5 in /anaconda/envs/azureml_py310_sdkv2/lib/python3.10/site-packages (from requests[socks]<3.0.0,>=2.19.1->azureml-core~=1.52.0->azureml-pipeline-core~=1.52.0->azureml-pipeline-steps) (3.4)\n",
            "Requirement already satisfied: PySocks!=1.5.7,>=1.5.6 in /anaconda/envs/azureml_py310_sdkv2/lib/python3.10/site-packages (from requests[socks]<3.0.0,>=2.19.1->azureml-core~=1.52.0->azureml-pipeline-core~=1.52.0->azureml-pipeline-steps) (1.7.1)\n",
            "Requirement already satisfied: jeepney>=0.6 in /anaconda/envs/azureml_py310_sdkv2/lib/python3.10/site-packages (from SecretStorage<4.0.0->azureml-core~=1.52.0->azureml-pipeline-core~=1.52.0->azureml-pipeline-steps) (0.8.0)\n",
            "Requirement already satisfied: backports.weakref in /anaconda/envs/azureml_py310_sdkv2/lib/python3.10/site-packages (from backports.tempfile->azureml-core~=1.52.0->azureml-pipeline-core~=1.52.0->azureml-pipeline-steps) (1.0.post1)\n",
            "Requirement already satisfied: pycparser in /anaconda/envs/azureml_py310_sdkv2/lib/python3.10/site-packages (from cffi>=1.12->cryptography!=1.9,!=2.0.*,!=2.1.*,!=2.2.*->azureml-core~=1.52.0->azureml-pipeline-core~=1.52.0->azureml-pipeline-steps) (2.21)\n",
            "Requirement already satisfied: distro>=1.2.0 in /anaconda/envs/azureml_py310_sdkv2/lib/python3.10/site-packages (from dotnetcore2<4.0.0,>=3.0.0->azureml-dataprep<4.12.0a,>=4.11.3a->azureml-dataset-runtime~=1.52.0->azureml-train-automl-client~=1.52.0->azureml-pipeline-steps) (1.8.0)\n",
            "Requirement already satisfied: oauthlib>=3.0.0 in /anaconda/envs/azureml_py310_sdkv2/lib/python3.10/site-packages (from requests-oauthlib>=0.5.0->msrest<=0.7.1,>=0.5.1->azureml-core~=1.52.0->azureml-pipeline-core~=1.52.0->azureml-pipeline-steps) (3.2.2)\n",
            "Requirement already satisfied: attrs>=17.4.0 in /anaconda/envs/azureml_py310_sdkv2/lib/python3.10/site-packages (from jsonschema->azureml-dataprep<4.12.0a,>=4.11.3a->azureml-dataset-runtime~=1.52.0->azureml-train-automl-client~=1.52.0->azureml-pipeline-steps) (23.1.0)\n",
            "Requirement already satisfied: pyrsistent!=0.17.0,!=0.17.1,!=0.17.2,>=0.14.0 in /anaconda/envs/azureml_py310_sdkv2/lib/python3.10/site-packages (from jsonschema->azureml-dataprep<4.12.0a,>=4.11.3a->azureml-dataset-runtime~=1.52.0->azureml-train-automl-client~=1.52.0->azureml-pipeline-steps) (0.19.3)\n",
            "Note: you may need to restart the kernel to use updated packages.\n"
          ]
        }
      ],
      "source": [
        "#create new file pipeline_build.ipynb\n",
        "\n",
        "import azureml.core\n",
        "%pip install azureml-pipeline-steps\n",
        "from azureml.core import Workspace, Datastore\n",
        "\n",
        "ws = Workspace.from_config()"
      ]
    },
    {
      "cell_type": "code",
      "execution_count": 2,
      "metadata": {
        "gather": {
          "logged": 1692083487268
        },
        "jupyter": {
          "outputs_hidden": false,
          "source_hidden": false
        },
        "nteract": {
          "transient": {
            "deleting": false
          }
        }
      },
      "outputs": [],
      "source": [
        "datastore = Datastore.get(ws, \"demostore\")"
      ]
    },
    {
      "cell_type": "code",
      "execution_count": 3,
      "metadata": {
        "gather": {
          "logged": 1692083491521
        },
        "jupyter": {
          "outputs_hidden": false,
          "source_hidden": false
        },
        "nteract": {
          "transient": {
            "deleting": false
          }
        }
      },
      "outputs": [],
      "source": [
        "from azureml.core.compute import ComputeTarget, AmlCompute\n",
        "compute_name = \"firstmohit\"\n",
        "vm_size = \"Standard_E4s_v3\"\n",
        "compute_target = ws.compute_targets[compute_name]"
      ]
    },
    {
      "cell_type": "code",
      "execution_count": 4,
      "metadata": {
        "gather": {
          "logged": 1692083497568
        },
        "jupyter": {
          "outputs_hidden": false,
          "source_hidden": false
        },
        "nteract": {
          "transient": {
            "deleting": false
          }
        }
      },
      "outputs": [],
      "source": [
        "from azureml.core.runconfig import RunConfiguration\n",
        "from azureml.core.conda_dependencies import CondaDependencies\n",
        "from azureml.core import Environment\n",
        "\n",
        "aml_run_config = RunConfiguration()\n",
        "# compute target as defined in \"Azure Machine Learning compute\" section above\n",
        "aml_run_config.target = compute_target\n",
        "\n",
        "USE_CURATED_ENV = True\n",
        "if USE_CURATED_ENV :\n",
        "    curated_environment = Environment.get(workspace=ws, name=\"AzureML-sklearn-0.24-ubuntu18.04-py37-cpu\")\n",
        "    aml_run_config.environment = curated_environment\n",
        "else:\n",
        "    aml_run_config.environment.python.user_managed_dependencies = False\n",
        "    \n",
        "    # Add some packages relied on by data prep step\n",
        "    aml_run_config.environment.python.conda_dependencies = CondaDependencies.create(\n",
        "        conda_packages=['pandas','scikit-learn'], \n",
        "        pip_packages=['azureml-sdk', 'azureml-dataset-runtime[fuse,pandas]'], \n",
        "        pin_sdk_version=False)"
      ]
    },
    {
      "cell_type": "code",
      "execution_count": 5,
      "metadata": {
        "gather": {
          "logged": 1692083502329
        },
        "jupyter": {
          "outputs_hidden": false,
          "source_hidden": false
        },
        "nteract": {
          "transient": {
            "deleting": false
          }
        }
      },
      "outputs": [],
      "source": [
        "\n",
        "from azureml.core import Dataset\n",
        "from azureml.data import OutputFileDatasetConfig\n",
        "\n",
        "from azureml.pipeline.steps import PythonScriptStep\n",
        "#dataprep_source_dir = \"./dataprep_src\"\n",
        "entry_point = \"python_script.py\""
      ]
    },
    {
      "cell_type": "code",
      "execution_count": 6,
      "metadata": {
        "gather": {
          "logged": 1692083506778
        },
        "jupyter": {
          "outputs_hidden": false,
          "source_hidden": false
        },
        "nteract": {
          "transient": {
            "deleting": false
          }
        }
      },
      "outputs": [],
      "source": [
        "py_script_run_step = PythonScriptStep(\n",
        "    script_name = entry_point,\n",
        "    compute_target = compute_target,\n",
        "    runconfig = aml_run_config,\n",
        "    allow_reuse = False\n",
        ")"
      ]
    },
    {
      "cell_type": "code",
      "execution_count": 7,
      "metadata": {
        "gather": {
          "logged": 1692083515932
        },
        "jupyter": {
          "outputs_hidden": false,
          "source_hidden": false
        },
        "nteract": {
          "transient": {
            "deleting": false
          }
        }
      },
      "outputs": [],
      "source": [
        "pipeline_steps = [py_script_run_step]"
      ]
    },
    {
      "cell_type": "code",
      "execution_count": 8,
      "metadata": {
        "gather": {
          "logged": 1692083519833
        },
        "jupyter": {
          "outputs_hidden": false,
          "source_hidden": false
        },
        "nteract": {
          "transient": {
            "deleting": false
          }
        }
      },
      "outputs": [],
      "source": [
        "from azureml.pipeline.core import Pipeline\n",
        "\n",
        "# build the pipeline\n",
        "pipeline1 = Pipeline(workspace =ws, steps= [pipeline_steps])"
      ]
    },
    {
      "cell_type": "code",
      "execution_count": 9,
      "metadata": {
        "gather": {
          "logged": 1692083579848
        },
        "jupyter": {
          "outputs_hidden": false,
          "source_hidden": false
        },
        "nteract": {
          "transient": {
            "deleting": false
          }
        }
      },
      "outputs": [
        {
          "name": "stdout",
          "output_type": "stream",
          "text": [
            "Created step python_script.py [d142debc][0696e352-f808-472b-8268-454260e212f7], (This step will run and generate new outputs)\n",
            "Submitted PipelineRun 204bf167-8ce8-4ed8-984a-54f3b12e8922\n",
            "Link to Azure Machine Learning Portal: https://ml.azure.com/runs/204bf167-8ce8-4ed8-984a-54f3b12e8922?wsid=/subscriptions/ce687e80-2716-4878-ba12-099e3e2e73b7/resourcegroups/machinelearning/workspaces/azuremlmohit&tid=7158f100-9188-4d39-a152-f7780b9cc57e\n",
            "PipelineRunId: 204bf167-8ce8-4ed8-984a-54f3b12e8922\n",
            "Link to Azure Machine Learning Portal: https://ml.azure.com/runs/204bf167-8ce8-4ed8-984a-54f3b12e8922?wsid=/subscriptions/ce687e80-2716-4878-ba12-099e3e2e73b7/resourcegroups/machinelearning/workspaces/azuremlmohit&tid=7158f100-9188-4d39-a152-f7780b9cc57e\n",
            "PipelineRun Status: Running\n",
            "\n",
            "\n",
            "StepRunId: a46d0234-7052-4958-882d-27f8aae1bccf\n",
            "Link to Azure Machine Learning Portal: https://ml.azure.com/runs/a46d0234-7052-4958-882d-27f8aae1bccf?wsid=/subscriptions/ce687e80-2716-4878-ba12-099e3e2e73b7/resourcegroups/machinelearning/workspaces/azuremlmohit&tid=7158f100-9188-4d39-a152-f7780b9cc57e\n",
            "StepRun( python_script.py ) Status: NotStarted\n",
            "StepRun( python_script.py ) Status: Running\n",
            "\n",
            "StepRun(python_script.py) Execution Summary\n",
            "============================================\n",
            "StepRun( python_script.py ) Status: Failed\n",
            "\n",
            "Warnings:\n",
            "AzureMLCompute job failed\n",
            "ExecutionFailed: [REDACTED]\n",
            "\texit_codes: 1\n",
            "\tAppinsights Reachable: Some(true)\n",
            "Execution failed. User process 'python' exited with status code 1. Please check log file 'user_logs/std_log.txt' for error details. Error: Traceback (most recent call last):\n",
            "  File \"python_script.py\", line 44, in <module>\n",
            "    print(\"count record from the file \"+ str(training_data.shape[0]))\n",
            "AttributeError: 'TabularDataset' object has no attribute 'shape'\n",
            "\n",
            "\n"
          ]
        },
        {
          "ename": "ActivityFailedException",
          "evalue": "ActivityFailedException:\n\tMessage: Activity Failed:\n{\n    \"error\": {\n        \"code\": \"UserError\",\n        \"message\": \"Execution failed. User process 'python' exited with status code 1. Please check log file 'user_logs/std_log.txt' for error details. Error: Traceback (most recent call last):\\n  File \\\"python_script.py\\\", line 44, in <module>\\n    print(\\\"count record from the file \\\"+ str(training_data.shape[0]))\\nAttributeError: 'TabularDataset' object has no attribute 'shape'\\n\\n\",\n        \"messageParameters\": {},\n        \"details\": []\n    },\n    \"time\": \"0001-01-01T00:00:00.000Z\",\n    \"componentName\": \"CommonRuntime\"\n}\n\tInnerException None\n\tErrorResponse \n{\n    \"error\": {\n        \"message\": \"Activity Failed:\\n{\\n    \\\"error\\\": {\\n        \\\"code\\\": \\\"UserError\\\",\\n        \\\"message\\\": \\\"Execution failed. User process 'python' exited with status code 1. Please check log file 'user_logs/std_log.txt' for error details. Error: Traceback (most recent call last):\\\\n  File \\\\\\\"python_script.py\\\\\\\", line 44, in <module>\\\\n    print(\\\\\\\"count record from the file \\\\\\\"+ str(training_data.shape[0]))\\\\nAttributeError: 'TabularDataset' object has no attribute 'shape'\\\\n\\\\n\\\",\\n        \\\"messageParameters\\\": {},\\n        \\\"details\\\": []\\n    },\\n    \\\"time\\\": \\\"0001-01-01T00:00:00.000Z\\\",\\n    \\\"componentName\\\": \\\"CommonRuntime\\\"\\n}\"\n    }\n}",
          "output_type": "error",
          "traceback": [
            "\u001b[0;31m---------------------------------------------------------------------------\u001b[0m",
            "\u001b[0;31mActivityFailedException\u001b[0m                   Traceback (most recent call last)",
            "Cell \u001b[0;32mIn[9], line 5\u001b[0m\n\u001b[1;32m      3\u001b[0m \u001b[38;5;66;03m#Submit the pipeline run\u001b[39;00m\n\u001b[1;32m      4\u001b[0m pipeline_run1 \u001b[38;5;241m=\u001b[39m Experiment(ws, \u001b[38;5;124m'\u001b[39m\u001b[38;5;124mfirst_trial-of-custom_pipeline\u001b[39m\u001b[38;5;124m'\u001b[39m)\u001b[38;5;241m.\u001b[39msubmit(pipeline1)\n\u001b[0;32m----> 5\u001b[0m \u001b[43mpipeline_run1\u001b[49m\u001b[38;5;241;43m.\u001b[39;49m\u001b[43mwait_for_completion\u001b[49m\u001b[43m(\u001b[49m\u001b[43mshow_output\u001b[49m\u001b[43m \u001b[49m\u001b[38;5;241;43m=\u001b[39;49m\u001b[43m \u001b[49m\u001b[38;5;28;43;01mTrue\u001b[39;49;00m\u001b[43m)\u001b[49m\n",
            "File \u001b[0;32m/anaconda/envs/azureml_py310_sdkv2/lib/python3.10/site-packages/azureml/pipeline/core/run.py:295\u001b[0m, in \u001b[0;36mPipelineRun.wait_for_completion\u001b[0;34m(self, show_output, timeout_seconds, raise_on_error)\u001b[0m\n\u001b[1;32m    293\u001b[0m \u001b[38;5;28mprint\u001b[39m(\u001b[38;5;124m'\u001b[39m\u001b[38;5;130;01m\\n\u001b[39;00m\u001b[38;5;124m'\u001b[39m)\n\u001b[1;32m    294\u001b[0m \u001b[38;5;28;01mtry\u001b[39;00m:\n\u001b[0;32m--> 295\u001b[0m     \u001b[43mstep_run\u001b[49m\u001b[38;5;241;43m.\u001b[39;49m\u001b[43mwait_for_completion\u001b[49m\u001b[43m(\u001b[49m\u001b[43mtimeout_seconds\u001b[49m\u001b[38;5;241;43m=\u001b[39;49m\u001b[43mtimeout_seconds\u001b[49m\u001b[43m \u001b[49m\u001b[38;5;241;43m-\u001b[39;49m\u001b[43m \u001b[49m\u001b[43mtime_elapsed\u001b[49m\u001b[43m,\u001b[49m\n\u001b[1;32m    296\u001b[0m \u001b[43m                                 \u001b[49m\u001b[43mraise_on_error\u001b[49m\u001b[38;5;241;43m=\u001b[39;49m\u001b[43mraise_on_error\u001b[49m\u001b[43m)\u001b[49m\n\u001b[1;32m    297\u001b[0m \u001b[38;5;28;01mexcept\u001b[39;00m \u001b[38;5;167;01mTypeError\u001b[39;00m \u001b[38;5;28;01mas\u001b[39;00m e:\n\u001b[1;32m    298\u001b[0m     \u001b[38;5;66;03m# If there are package conflicts in the user's environment, the run rehydration\u001b[39;00m\n\u001b[1;32m    299\u001b[0m     \u001b[38;5;66;03m# will not work and we will receive a Run object instead of StepRun.\u001b[39;00m\n\u001b[1;32m    300\u001b[0m     \u001b[38;5;66;03m# Run.wait_for_completion() does not have a parameter timeout_seconds, which\u001b[39;00m\n\u001b[1;32m    301\u001b[0m     \u001b[38;5;66;03m# will generate a TypeError here.  As a workaround, call the method without\u001b[39;00m\n\u001b[1;32m    302\u001b[0m     \u001b[38;5;66;03m# this parameter.\u001b[39;00m\n\u001b[1;32m    303\u001b[0m     \u001b[38;5;28;01mif\u001b[39;00m \u001b[38;5;129;01mnot\u001b[39;00m \u001b[38;5;28misinstance\u001b[39m(step_run, StepRun):\n",
            "File \u001b[0;32m/anaconda/envs/azureml_py310_sdkv2/lib/python3.10/site-packages/azureml/pipeline/core/run.py:742\u001b[0m, in \u001b[0;36mStepRun.wait_for_completion\u001b[0;34m(self, show_output, timeout_seconds, raise_on_error)\u001b[0m\n\u001b[1;32m    740\u001b[0m \u001b[38;5;28;01mif\u001b[39;00m show_output:\n\u001b[1;32m    741\u001b[0m     \u001b[38;5;28;01mtry\u001b[39;00m:\n\u001b[0;32m--> 742\u001b[0m         \u001b[38;5;28;01mreturn\u001b[39;00m \u001b[38;5;28;43mself\u001b[39;49m\u001b[38;5;241;43m.\u001b[39;49m\u001b[43m_stream_run_output\u001b[49m\u001b[43m(\u001b[49m\u001b[43mtimeout_seconds\u001b[49m\u001b[38;5;241;43m=\u001b[39;49m\u001b[43mtimeout_seconds\u001b[49m\u001b[43m,\u001b[49m\n\u001b[1;32m    743\u001b[0m \u001b[43m                                       \u001b[49m\u001b[43mraise_on_error\u001b[49m\u001b[38;5;241;43m=\u001b[39;49m\u001b[43mraise_on_error\u001b[49m\u001b[43m)\u001b[49m\n\u001b[1;32m    744\u001b[0m     \u001b[38;5;28;01mexcept\u001b[39;00m \u001b[38;5;167;01mKeyboardInterrupt\u001b[39;00m:\n\u001b[1;32m    745\u001b[0m         error_message \u001b[38;5;241m=\u001b[39m \u001b[38;5;124m\"\u001b[39m\u001b[38;5;124mThe output streaming for the run interrupted.\u001b[39m\u001b[38;5;130;01m\\n\u001b[39;00m\u001b[38;5;124m\"\u001b[39m \\\n\u001b[1;32m    746\u001b[0m                         \u001b[38;5;124m\"\u001b[39m\u001b[38;5;124mBut the run is still executing on the compute target. \u001b[39m\u001b[38;5;130;01m\\n\u001b[39;00m\u001b[38;5;124m\"\u001b[39m \\\n\u001b[1;32m    747\u001b[0m                         \u001b[38;5;124m\"\u001b[39m\u001b[38;5;124mDetails for canceling the run can be found here: \u001b[39m\u001b[38;5;124m\"\u001b[39m \\\n\u001b[1;32m    748\u001b[0m                         \u001b[38;5;124m\"\u001b[39m\u001b[38;5;124mhttps://aka.ms/aml-docs-cancel-run\u001b[39m\u001b[38;5;124m\"\u001b[39m\n",
            "File \u001b[0;32m/anaconda/envs/azureml_py310_sdkv2/lib/python3.10/site-packages/azureml/pipeline/core/run.py:835\u001b[0m, in \u001b[0;36mStepRun._stream_run_output\u001b[0;34m(self, timeout_seconds, raise_on_error)\u001b[0m\n\u001b[1;32m    833\u001b[0m     \u001b[38;5;28mprint\u001b[39m(json\u001b[38;5;241m.\u001b[39mdumps(error, indent\u001b[38;5;241m=\u001b[39m\u001b[38;5;241m4\u001b[39m))\n\u001b[1;32m    834\u001b[0m \u001b[38;5;28;01mif\u001b[39;00m error \u001b[38;5;129;01mand\u001b[39;00m raise_on_error:\n\u001b[0;32m--> 835\u001b[0m     \u001b[38;5;28;01mraise\u001b[39;00m ActivityFailedException(error_details\u001b[38;5;241m=\u001b[39mjson\u001b[38;5;241m.\u001b[39mdumps(error, indent\u001b[38;5;241m=\u001b[39m\u001b[38;5;241m4\u001b[39m))\n\u001b[1;32m    837\u001b[0m \u001b[38;5;28mprint\u001b[39m(final_details)\n\u001b[1;32m    838\u001b[0m \u001b[38;5;28mprint\u001b[39m(\u001b[38;5;124m'\u001b[39m\u001b[38;5;124m'\u001b[39m, flush\u001b[38;5;241m=\u001b[39m\u001b[38;5;28;01mTrue\u001b[39;00m)\n",
            "\u001b[0;31mActivityFailedException\u001b[0m: ActivityFailedException:\n\tMessage: Activity Failed:\n{\n    \"error\": {\n        \"code\": \"UserError\",\n        \"message\": \"Execution failed. User process 'python' exited with status code 1. Please check log file 'user_logs/std_log.txt' for error details. Error: Traceback (most recent call last):\\n  File \\\"python_script.py\\\", line 44, in <module>\\n    print(\\\"count record from the file \\\"+ str(training_data.shape[0]))\\nAttributeError: 'TabularDataset' object has no attribute 'shape'\\n\\n\",\n        \"messageParameters\": {},\n        \"details\": []\n    },\n    \"time\": \"0001-01-01T00:00:00.000Z\",\n    \"componentName\": \"CommonRuntime\"\n}\n\tInnerException None\n\tErrorResponse \n{\n    \"error\": {\n        \"message\": \"Activity Failed:\\n{\\n    \\\"error\\\": {\\n        \\\"code\\\": \\\"UserError\\\",\\n        \\\"message\\\": \\\"Execution failed. User process 'python' exited with status code 1. Please check log file 'user_logs/std_log.txt' for error details. Error: Traceback (most recent call last):\\\\n  File \\\\\\\"python_script.py\\\\\\\", line 44, in <module>\\\\n    print(\\\\\\\"count record from the file \\\\\\\"+ str(training_data.shape[0]))\\\\nAttributeError: 'TabularDataset' object has no attribute 'shape'\\\\n\\\\n\\\",\\n        \\\"messageParameters\\\": {},\\n        \\\"details\\\": []\\n    },\\n    \\\"time\\\": \\\"0001-01-01T00:00:00.000Z\\\",\\n    \\\"componentName\\\": \\\"CommonRuntime\\\"\\n}\"\n    }\n}"
          ]
        }
      ],
      "source": [
        "from azureml.core import Experiment\n",
        "\n",
        "#Submit the pipeline run\n",
        "pipeline_run1 = Experiment(ws, 'first_trial-of-custom_pipeline').submit(pipeline1)\n",
        "pipeline_run1.wait_for_completion(show_output = True)\n"
      ]
    }
  ],
  "metadata": {
    "kernel_info": {
      "name": "python310-sdkv2"
    },
    "kernelspec": {
      "display_name": "Python 3.10 - SDK v2",
      "language": "python",
      "name": "python310-sdkv2"
    },
    "microsoft": {
      "host": {
        "AzureML": {
          "notebookHasBeenCompleted": true
        }
      },
      "ms_spell_check": {
        "ms_spell_check_language": "en"
      }
    },
    "nteract": {
      "version": "nteract-front-end@1.0.0"
    }
  },
  "nbformat": 4,
  "nbformat_minor": 2
}
